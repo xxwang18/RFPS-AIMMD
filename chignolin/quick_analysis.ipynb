{
 "cells": [
  {
   "cell_type": "code",
   "execution_count": null,
   "id": "ebec983b-09f2-42e2-ac06-3ccf83a80dbd",
   "metadata": {},
   "outputs": [],
   "source": [
    "from utils import *"
   ]
  },
  {
   "cell_type": "code",
   "execution_count": null,
   "id": "7bd02ce8-a598-4c5e-94fd-37ad0ff038d7",
   "metadata": {},
   "outputs": [],
   "source": [
    "# working directory\n",
    "directory = 'run1'\n",
    "cwd = os.getcwd()\n",
    "os.chdir(directory)\n",
    "exec(open(f'params.py', 'r').read())\n",
    "os.chdir(cwd)\n",
    "\n",
    "Pathensemble = load_pathensemble(states_function,\n",
    "    descriptors_function, values_function, directory=directory)\n",
    "Shots, EquilibriumA, EquilibriumB = scorporate_pathensembles(Pathensemble)\n",
    "Pathensemble = Shots + EquilibriumA + EquilibriumB"
   ]
  },
  {
   "cell_type": "code",
   "execution_count": null,
   "id": "2e291f9c-6459-4738-8ce3-dc4484deeb3b",
   "metadata": {},
   "outputs": [],
   "source": [
    "network_parameters = f'{directory}/network.h5'\n",
    "network = Network().to(device)\n",
    "network.load_state_dict(\n",
    "    torch.load(network_parameters, map_location=device))\n",
    "\n",
    "Pathensemble.update_values()\n",
    "\n",
    "reweight_parameters = {'equilibrium_threshold': 5}\n",
    "\n",
    "wA, *_ = Pathensemble.reweight('A', **reweight_parameters)\n",
    "wB, *_ = Pathensemble.reweight('B', **reweight_parameters)\n",
    "Pathensemble.weights = wA + wB\n",
    "\n",
    "# ..."
   ]
  },
  {
   "cell_type": "code",
   "execution_count": 3,
   "id": "d2021559",
   "metadata": {},
   "outputs": [
    {
     "data": {
      "text/plain": [
       "array([3, 4, 8, 4, 4, 5, 9, 3, 6, 1])"
      ]
     },
     "execution_count": 3,
     "metadata": {},
     "output_type": "execute_result"
    }
   ],
   "source": [
    "import numpy as np\n",
    "k = np.random.choice(10, 10)\n",
    "k"
   ]
  },
  {
   "cell_type": "code",
   "execution_count": null,
   "id": "2b840b37",
   "metadata": {},
   "outputs": [],
   "source": []
  }
 ],
 "metadata": {
  "kernelspec": {
   "display_name": "Python 3",
   "language": "python",
   "name": "python3"
  },
  "language_info": {
   "codemirror_mode": {
    "name": "ipython",
    "version": 3
   },
   "file_extension": ".py",
   "mimetype": "text/x-python",
   "name": "python",
   "nbconvert_exporter": "python",
   "pygments_lexer": "ipython3",
   "version": "3.10.6"
  }
 },
 "nbformat": 4,
 "nbformat_minor": 5
}
